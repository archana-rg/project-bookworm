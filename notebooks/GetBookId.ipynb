{
 "cells": [
  {
   "cell_type": "markdown",
   "id": "c4b44455",
   "metadata": {},
   "source": [
    "### Web Scraping and Data Clean up\n",
    "First part of web scraping to obtain book id uses selenium driver and was done on Windows system due to issue with firefox profile on Ubuntu. Rest of it was executed on Ubuntu which is where rest of the project was done."
   ]
  },
  {
   "cell_type": "markdown",
   "id": "f5b42bee",
   "metadata": {},
   "source": [
    "#### Installing modules needed for web scraping and importing libraries"
   ]
  },
  {
   "cell_type": "code",
   "execution_count": null,
   "id": "d842a1bc",
   "metadata": {},
   "outputs": [],
   "source": [
    "!pip install selenium"
   ]
  },
  {
   "cell_type": "code",
   "execution_count": null,
   "id": "f0bf1274",
   "metadata": {},
   "outputs": [],
   "source": [
    "!pip install chromedriver-py"
   ]
  },
  {
   "cell_type": "code",
   "execution_count": 184,
   "id": "c80caf7f",
   "metadata": {},
   "outputs": [],
   "source": [
    "import selenium\n",
    "from selenium import webdriver\n",
    "from selenium.webdriver import chrome\n",
    "from selenium.webdriver.chrome.service import Service\n",
    "from selenium.webdriver.chrome.options import Options\n",
    "from selenium.webdriver.common.keys import Keys\n",
    "from selenium.webdriver.common.by import By\n",
    "import re\n",
    "from bs4 import BeautifulSoup\n",
    "from urllib.request import urlopen\n",
    "import time\n",
    "import random\n",
    "from urllib.parse import urlencode\n",
    "import requests\n",
    "from urllib.error import HTTPError, URLError\n",
    "from selenium.common.exceptions import NoSuchElementException, WebDriverException"
   ]
  },
  {
   "cell_type": "code",
   "execution_count": 7,
   "id": "57df40d0",
   "metadata": {},
   "outputs": [],
   "source": [
    "import pandas as pd\n",
    "import numpy as np\n",
    "import pickle"
   ]
  },
  {
   "cell_type": "markdown",
   "id": "010c12e3",
   "metadata": {},
   "source": [
    "#### BookSummaries Data is from Carnegie Mellon University originally and obtained from Kaggle\n",
    "https://www.kaggle.com/datasets/ymaricar/cmu-book-summary-dataset"
   ]
  },
  {
   "cell_type": "code",
   "execution_count": 3,
   "id": "6f4344e4",
   "metadata": {},
   "outputs": [
    {
     "data": {
      "text/plain": [
       "16559"
      ]
     },
     "execution_count": 3,
     "metadata": {},
     "output_type": "execute_result"
    }
   ],
   "source": [
    "filename = \"data/booksummaries.txt\"\n",
    "lines = open(filename, encoding=\"utf8\").read().splitlines()\n",
    "len(lines)"
   ]
  },
  {
   "cell_type": "code",
   "execution_count": 4,
   "id": "6f594093",
   "metadata": {},
   "outputs": [],
   "source": [
    "titles = []\n",
    "authors = []\n",
    "pubDates = []\n",
    "genres = []\n",
    "summaries = []\n",
    "for line in range(0,len(lines)):\n",
    "    content = lines[line].split('/m/', 1)[1].split('\\t', 1)[1]\n",
    "    fields = content.split('\\t')\n",
    "    title = fields[0]\n",
    "    titles.append(title)\n",
    "    author = fields[1]\n",
    "    authors.append(author)\n",
    "    pubDate = fields[2]\n",
    "    if pubDate == '':\n",
    "        pubDate = np.nan\n",
    "    pubDates.append(pubDate)\n",
    "    genreDict = fields[3]\n",
    "    genre = ''\n",
    "    summary = fields[-1]\n",
    "    try:\n",
    "        genreDict = eval(genreDict)\n",
    "        for val in genreDict.values():\n",
    "            genre += val + ' '\n",
    "    except:\n",
    "        genre = np.nan\n",
    "    \n",
    "    genres.append(genre)\n",
    "    summary = summary.replace('\\'', '')\n",
    "    summaries.append(summary)"
   ]
  },
  {
   "cell_type": "code",
   "execution_count": 5,
   "id": "74486e92",
   "metadata": {},
   "outputs": [
    {
     "data": {
      "text/html": [
       "<div>\n",
       "<style scoped>\n",
       "    .dataframe tbody tr th:only-of-type {\n",
       "        vertical-align: middle;\n",
       "    }\n",
       "\n",
       "    .dataframe tbody tr th {\n",
       "        vertical-align: top;\n",
       "    }\n",
       "\n",
       "    .dataframe thead th {\n",
       "        text-align: right;\n",
       "    }\n",
       "</style>\n",
       "<table border=\"1\" class=\"dataframe\">\n",
       "  <thead>\n",
       "    <tr style=\"text-align: right;\">\n",
       "      <th></th>\n",
       "      <th>Title</th>\n",
       "      <th>Author</th>\n",
       "      <th>PublishedDate</th>\n",
       "      <th>Genre</th>\n",
       "      <th>Summary</th>\n",
       "    </tr>\n",
       "  </thead>\n",
       "  <tbody>\n",
       "    <tr>\n",
       "      <th>0</th>\n",
       "      <td>Animal Farm</td>\n",
       "      <td>George Orwell</td>\n",
       "      <td>1945-08-17</td>\n",
       "      <td>Roman à clef Satire Children's literature Spec...</td>\n",
       "      <td>Old Major, the old boar on the Manor Farm, ca...</td>\n",
       "    </tr>\n",
       "    <tr>\n",
       "      <th>1</th>\n",
       "      <td>A Clockwork Orange</td>\n",
       "      <td>Anthony Burgess</td>\n",
       "      <td>1962</td>\n",
       "      <td>Science Fiction Novella Speculative fiction Ut...</td>\n",
       "      <td>Alex, a teenager living in near-future Englan...</td>\n",
       "    </tr>\n",
       "    <tr>\n",
       "      <th>2</th>\n",
       "      <td>The Plague</td>\n",
       "      <td>Albert Camus</td>\n",
       "      <td>1947</td>\n",
       "      <td>Existentialism Fiction Absurdist fiction Novel</td>\n",
       "      <td>The text of The Plague is divided into five p...</td>\n",
       "    </tr>\n",
       "    <tr>\n",
       "      <th>3</th>\n",
       "      <td>An Enquiry Concerning Human Understanding</td>\n",
       "      <td>David Hume</td>\n",
       "      <td>NaN</td>\n",
       "      <td>NaN</td>\n",
       "      <td>The argument of the Enquiry proceeds by a ser...</td>\n",
       "    </tr>\n",
       "    <tr>\n",
       "      <th>4</th>\n",
       "      <td>A Fire Upon the Deep</td>\n",
       "      <td>Vernor Vinge</td>\n",
       "      <td>NaN</td>\n",
       "      <td>Hard science fiction Science Fiction Speculati...</td>\n",
       "      <td>The novel posits that space around the Milky ...</td>\n",
       "    </tr>\n",
       "    <tr>\n",
       "      <th>...</th>\n",
       "      <td>...</td>\n",
       "      <td>...</td>\n",
       "      <td>...</td>\n",
       "      <td>...</td>\n",
       "      <td>...</td>\n",
       "    </tr>\n",
       "    <tr>\n",
       "      <th>16554</th>\n",
       "      <td>Under Wildwood</td>\n",
       "      <td>Colin Meloy</td>\n",
       "      <td>2012-09-25</td>\n",
       "      <td>NaN</td>\n",
       "      <td>Prue McKeel, having rescued her brother from ...</td>\n",
       "    </tr>\n",
       "    <tr>\n",
       "      <th>16555</th>\n",
       "      <td>Transfer of Power</td>\n",
       "      <td>Vince Flynn</td>\n",
       "      <td>2000-06-01</td>\n",
       "      <td>Thriller Fiction</td>\n",
       "      <td>The reader first meets Rapp while he is doing...</td>\n",
       "    </tr>\n",
       "    <tr>\n",
       "      <th>16556</th>\n",
       "      <td>Decoded</td>\n",
       "      <td>Jay-Z</td>\n",
       "      <td>2010-11-16</td>\n",
       "      <td>Autobiography</td>\n",
       "      <td>The book follows very rough chronological ord...</td>\n",
       "    </tr>\n",
       "    <tr>\n",
       "      <th>16557</th>\n",
       "      <td>America Again: Re-becoming The Greatness We Ne...</td>\n",
       "      <td>Stephen Colbert</td>\n",
       "      <td>2012-10-02</td>\n",
       "      <td>NaN</td>\n",
       "      <td>Colbert addresses topics including Wall Stree...</td>\n",
       "    </tr>\n",
       "    <tr>\n",
       "      <th>16558</th>\n",
       "      <td>Poor Folk</td>\n",
       "      <td>Fyodor Dostoyevsky</td>\n",
       "      <td>1846</td>\n",
       "      <td>Epistolary novel Speculative fiction</td>\n",
       "      <td>Makar Devushkin and Varvara Dobroselova are s...</td>\n",
       "    </tr>\n",
       "  </tbody>\n",
       "</table>\n",
       "<p>16559 rows × 5 columns</p>\n",
       "</div>"
      ],
      "text/plain": [
       "                                                   Title              Author  \\\n",
       "0                                            Animal Farm       George Orwell   \n",
       "1                                     A Clockwork Orange     Anthony Burgess   \n",
       "2                                             The Plague        Albert Camus   \n",
       "3              An Enquiry Concerning Human Understanding          David Hume   \n",
       "4                                   A Fire Upon the Deep        Vernor Vinge   \n",
       "...                                                  ...                 ...   \n",
       "16554                                     Under Wildwood         Colin Meloy   \n",
       "16555                                  Transfer of Power         Vince Flynn   \n",
       "16556                                            Decoded               Jay-Z   \n",
       "16557  America Again: Re-becoming The Greatness We Ne...     Stephen Colbert   \n",
       "16558                                          Poor Folk  Fyodor Dostoyevsky   \n",
       "\n",
       "      PublishedDate                                              Genre  \\\n",
       "0        1945-08-17  Roman à clef Satire Children's literature Spec...   \n",
       "1              1962  Science Fiction Novella Speculative fiction Ut...   \n",
       "2              1947    Existentialism Fiction Absurdist fiction Novel    \n",
       "3               NaN                                                NaN   \n",
       "4               NaN  Hard science fiction Science Fiction Speculati...   \n",
       "...             ...                                                ...   \n",
       "16554    2012-09-25                                                NaN   \n",
       "16555    2000-06-01                                  Thriller Fiction    \n",
       "16556    2010-11-16                                     Autobiography    \n",
       "16557    2012-10-02                                                NaN   \n",
       "16558          1846              Epistolary novel Speculative fiction    \n",
       "\n",
       "                                                 Summary  \n",
       "0       Old Major, the old boar on the Manor Farm, ca...  \n",
       "1       Alex, a teenager living in near-future Englan...  \n",
       "2       The text of The Plague is divided into five p...  \n",
       "3       The argument of the Enquiry proceeds by a ser...  \n",
       "4       The novel posits that space around the Milky ...  \n",
       "...                                                  ...  \n",
       "16554   Prue McKeel, having rescued her brother from ...  \n",
       "16555   The reader first meets Rapp while he is doing...  \n",
       "16556   The book follows very rough chronological ord...  \n",
       "16557   Colbert addresses topics including Wall Stree...  \n",
       "16558   Makar Devushkin and Varvara Dobroselova are s...  \n",
       "\n",
       "[16559 rows x 5 columns]"
      ]
     },
     "execution_count": 5,
     "metadata": {},
     "output_type": "execute_result"
    }
   ],
   "source": [
    "books_df = pd.DataFrame({'Title':titles, 'Author':authors, 'PublishedDate': pubDates,'Genre':genres, 'Summary':summaries})\n",
    "books_df"
   ]
  },
  {
   "cell_type": "code",
   "execution_count": 108,
   "id": "056689c4",
   "metadata": {},
   "outputs": [],
   "source": [
    "book_names = books_df['Title'].tolist()"
   ]
  },
  {
   "cell_type": "code",
   "execution_count": 109,
   "id": "ce7853b9",
   "metadata": {},
   "outputs": [],
   "source": [
    "author_names = books_df['Author'].tolist()"
   ]
  },
  {
   "cell_type": "code",
   "execution_count": 224,
   "id": "5bfbc7e1",
   "metadata": {},
   "outputs": [
    {
     "data": {
      "text/plain": [
       "16559"
      ]
     },
     "execution_count": 224,
     "metadata": {},
     "output_type": "execute_result"
    }
   ],
   "source": [
    "num_books = len(book_names)\n",
    "num_books"
   ]
  },
  {
   "cell_type": "markdown",
   "id": "151a57ce",
   "metadata": {},
   "source": [
    "#### Login to goodreads"
   ]
  },
  {
   "cell_type": "code",
   "execution_count": 115,
   "id": "fb9ff903",
   "metadata": {},
   "outputs": [],
   "source": [
    "s = Service(\"chromedriver-win64/chromedriver.exe\")\n",
    "opts = Options()\n",
    "opts.headless= True\n",
    "browser = webdriver.Chrome(service=s, options=opts)\n",
    "browser.get(\"https://www.goodreads.com/ap/signin?language=en_US&openid.assoc_handle=amzn_goodreads_web_na&openid.claimed_id=http%3A%2F%2Fspecs.openid.net%2Fauth%2F2.0%2Fidentifier_select&openid.identity=http%3A%2F%2Fspecs.openid.net%2Fauth%2F2.0%2Fidentifier_select&openid.mode=checkid_setup&openid.ns=http%3A%2F%2Fspecs.openid.net%2Fauth%2F2.0&openid.pape.max_auth_age=0&openid.return_to=https%3A%2F%2Fwww.goodreads.com%2Fap-handler%2Fsign-in&siteState=eyJyZXR1cm5fdXJsIjoiaHR0cHM6Ly93d3cuZ29vZHJlYWRzLmNvbS8ifQ%3D%3D\")"
   ]
  },
  {
   "cell_type": "code",
   "execution_count": 116,
   "id": "8b4afce1",
   "metadata": {},
   "outputs": [],
   "source": [
    "log_email = browser.find_element(By.ID, value='ap_email')\n",
    "log_pwd = browser.find_element(By.ID, value='ap_password')\n",
    "log_email.send_keys(\"archana.gopal@gmail.com\")\n",
    "log_pwd.send_keys(\"francon77\")\n",
    "log_pwd.submit()"
   ]
  },
  {
   "cell_type": "markdown",
   "id": "f0410ee2",
   "metadata": {},
   "source": [
    "#### Obtain book id for each book in the dataset from goodreads. Will need to look up genres using the book id later."
   ]
  },
  {
   "cell_type": "code",
   "execution_count": null,
   "id": "78d727b9",
   "metadata": {},
   "outputs": [],
   "source": [
    "book_id_list = []\n",
    "for index in range(0, num_books):\n",
    "    success = False\n",
    "    while(not success):\n",
    "        try:\n",
    "            browser.get(\"https://www.goodreads.com/search\")\n",
    "            book_name = book_titles[index]\n",
    "            author_full = book_authors[index]\n",
    "            if(author_full == ''):\n",
    "                book_id_list.append(np.nan)\n",
    "                success=True\n",
    "                continue\n",
    "            search_field = browser.find_element(By.ID, value='search_query_main')\n",
    "            search_button = browser.find_element(By.CLASS_NAME, value='searchBox__button')\n",
    "            search_field.send_keys(book_name)\n",
    "            search_button.click()\n",
    "            page = urlopen(browser.current_url)\n",
    "            html = page.read().decode(\"utf-8\")\n",
    "            soup = BeautifulSoup(html, \"html.parser\")\n",
    "            books = soup.find_all('tr')\n",
    "            link = ''\n",
    "            for book in books:\n",
    "                link = ''\n",
    "                props = book.find_all('a')\n",
    "                attributes_book = props[0].attrs\n",
    "                bookname = attributes_book.get('title')\n",
    "                link = attributes_book.get('href')\n",
    "                span = props[2].find('span')\n",
    "                author = span.string\n",
    "                if ((book_name in bookname) and (author_full in author)):\n",
    "                    book_ids = re.findall('show\\/(\\d*).',link)\n",
    "                    book_id_list.append((book_name, book_ids[0]))\n",
    "                    break\n",
    "            if(link == ''):\n",
    "                book_id_list.append(np.nan)\n",
    "            time.sleep(random.randint(4,9))\n",
    "            success=True\n",
    "        except HTTPError:\n",
    "            time.sleep(3)\n",
    "            success = False\n",
    "        except NoSuchElementException:\n",
    "            time.sleep(3)\n",
    "            success = False\n",
    "        except WebDriverException:\n",
    "            time.sleep(5)\n",
    "            success = False\n",
    "        except URLError:\n",
    "            time.sleep(3)\n",
    "            success = False"
   ]
  },
  {
   "cell_type": "markdown",
   "id": "434dda9a",
   "metadata": {},
   "source": [
    "#### Save the Book ID list as pickle file for reference"
   ]
  },
  {
   "cell_type": "code",
   "execution_count": null,
   "id": "6364587f",
   "metadata": {},
   "outputs": [],
   "source": [
    "'''with open('data/book_ids.pkl', 'wb') as f:\n",
    "    pickle.dump(book_id_list, f)'''"
   ]
  },
  {
   "cell_type": "markdown",
   "id": "135308c6",
   "metadata": {},
   "source": [
    "#### Load the pickle file and create dataframe with book id"
   ]
  },
  {
   "cell_type": "code",
   "execution_count": 14,
   "id": "99529afb",
   "metadata": {},
   "outputs": [
    {
     "data": {
      "text/plain": [
       "12882"
      ]
     },
     "execution_count": 14,
     "metadata": {},
     "output_type": "execute_result"
    }
   ],
   "source": [
    "books_df['BookId'] = np.nan\n",
    "with open('data/book_ids.pkl', 'rb') as f:\n",
    "    book_id_list = pickle.load(f)\n",
    "len(book_id_list)"
   ]
  },
  {
   "cell_type": "code",
   "execution_count": 9,
   "id": "3deed801",
   "metadata": {},
   "outputs": [],
   "source": [
    "for val_tuple in book_id_list:\n",
    "    if(isinstance(val_tuple, tuple)):\n",
    "        name = val_tuple[0]\n",
    "        book_id = val_tuple[1]\n",
    "        books_df['BookId'] = np.where(name == books_df['Title'],book_id, books_df['BookId'])"
   ]
  },
  {
   "cell_type": "code",
   "execution_count": null,
   "id": "4c19a9a9",
   "metadata": {},
   "outputs": [],
   "source": [
    "books_df = books_df[['Title', 'BookId', 'Author', 'PublishedDate', 'Genre', 'Summary']]\n",
    "books_df['BookId'] = books_df['BookId'].astype(str)\n",
    "books_df['BookId'] = np.where(books_df['BookId'] == 'nan', np.nan, books_df['BookId'])\n",
    "books_df['Author'] = books_df['Author'].astype(str)\n",
    "books_df['Author'] = np.where(books_df['Author'] == '', np.nan, books_df['Author'])\n",
    "books_df_clean = books_df.dropna(subset=['BookId', 'Author'])\n",
    "books_df_clean  = books_df_clean.reset_index().drop(columns=['index'])\n",
    "books_df_clean.info()"
   ]
  },
  {
   "cell_type": "markdown",
   "id": "63bbb296",
   "metadata": {},
   "source": [
    "#### Main genres to classify books into"
   ]
  },
  {
   "cell_type": "code",
   "execution_count": 11,
   "id": "b2475fd5",
   "metadata": {},
   "outputs": [
    {
     "data": {
      "text/plain": [
       "['humor',\n",
       " 'comedy',\n",
       " 'horror',\n",
       " 'fantasy',\n",
       " 'historical',\n",
       " 'romance',\n",
       " 'thriller',\n",
       " 'mystery',\n",
       " 'crime',\n",
       " 'science',\n",
       " 'philosophy']"
      ]
     },
     "execution_count": 11,
     "metadata": {},
     "output_type": "execute_result"
    }
   ],
   "source": [
    "main_genres = ['humor', 'comedy', 'horror', 'fantasy', 'historical', 'romance', 'thriller', 'mystery','crime', 'science', 'philosophy']\n",
    "main_genres"
   ]
  },
  {
   "cell_type": "markdown",
   "id": "a34fa269",
   "metadata": {},
   "source": [
    "#### Obtain the top genre for each book along with whether fiction or not"
   ]
  },
  {
   "cell_type": "code",
   "execution_count": null,
   "id": "883928dd",
   "metadata": {},
   "outputs": [],
   "source": [
    "books_df_clean['NewGenre'] = ''\n",
    "books_df_clean['Fiction'] = 1\n",
    "book_base_url = 'https://www.goodreads.com/book/show/'\n",
    "genre_set = 0\n",
    "fiction_set = 0\n",
    "success = 0\n",
    "for row in range(0,books_df_clean.shape[0]):\n",
    "    genre_set=0\n",
    "    fiction_set = 0\n",
    "    success = 0\n",
    "    while(not success):\n",
    "        id = books_df_clean.loc[row, 'BookId']\n",
    "        book_url = book_base_url + str(id)\n",
    "        response = requests.get(book_url) \n",
    "        if(response.status_code != 200):\n",
    "             time.sleep(3)\n",
    "             success = False\n",
    "        else:\n",
    "            doc = BeautifulSoup(response.text, 'html.parser')\n",
    "            book_tags = doc.find_all('div', class_=\"BookPageMetadataSection__genres\")\n",
    "            try:\n",
    "                spans = book_tags[0].find_all('span', class_='Button__labelItem')\n",
    "                for span in spans:\n",
    "                    genre = str(span.string).lower()\n",
    "                    if(not fiction_set):\n",
    "                        if(genre== 'nonfiction'):\n",
    "                            books_df_clean.loc[row, 'Fiction'] = 0\n",
    "                            fiction_set=1\n",
    "                        elif(genre == 'fiction'):\n",
    "                            books_df_clean.loc[row, 'Fiction'] = 1\n",
    "                            fiction_set = 1\n",
    "                    if(not genre_set):\n",
    "                        if(any(genre in x  for x in main_genres)):\n",
    "                            books_df_clean.loc[row, 'NewGenre'] = genre\n",
    "                            genre_set=1\n",
    "            except IndexError:\n",
    "                print(\"no genre for \" + id)\n",
    "        success = True\n",
    "        time.sleep(random.randint(1,4))"
   ]
  },
  {
   "cell_type": "markdown",
   "id": "01bc076d",
   "metadata": {},
   "source": [
    "#### Save the final dataframe as pickle file"
   ]
  },
  {
   "cell_type": "code",
   "execution_count": null,
   "id": "9c95889f",
   "metadata": {},
   "outputs": [],
   "source": [
    "'''with open('data/books_df_clean.pkl', 'wb') as f:\n",
    "    pickle.dump(books_df_clean,f)'''"
   ]
  },
  {
   "cell_type": "code",
   "execution_count": null,
   "id": "70567db8",
   "metadata": {},
   "outputs": [],
   "source": []
  }
 ],
 "metadata": {
  "kernelspec": {
   "display_name": "Python 3 (ipykernel)",
   "language": "python",
   "name": "python3"
  },
  "language_info": {
   "codemirror_mode": {
    "name": "ipython",
    "version": 3
   },
   "file_extension": ".py",
   "mimetype": "text/x-python",
   "name": "python",
   "nbconvert_exporter": "python",
   "pygments_lexer": "ipython3",
   "version": "3.9.20"
  }
 },
 "nbformat": 4,
 "nbformat_minor": 5
}
